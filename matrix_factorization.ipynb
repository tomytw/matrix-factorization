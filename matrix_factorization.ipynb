{
  "cells": [
    {
      "cell_type": "markdown",
      "metadata": {
        "id": "F5rtEBcdeO0a"
      },
      "source": [
        "# Matrix Factorization using Tensorflow 2.8.0"
      ]
    },
    {
      "cell_type": "markdown",
      "metadata": {
        "id": "iRy-wCCMepvc"
      },
      "source": [
        "Matrix Factorization is one of the most common technique in Collaborative Filtering Recommendation System.\n",
        "\n",
        "Factorization simply means expressing something big as a product of smaller factors"
      ]
    },
    {
      "cell_type": "markdown",
      "metadata": {
        "id": "pqYLbInee5Y8"
      },
      "source": [
        "The idea is to factorize a user and item matrix so it can calculate the rating of an item with much smaller matrix"
      ]
    },
    {
      "cell_type": "markdown",
      "metadata": {
        "id": "JaTb_H7UfVQf"
      },
      "source": [
        "<img src=\"https://miro.medium.com/max/500/1*rWjYGlDlzzbAVizBk7nOrw.png\" alt=\"Drawing\" style=\"width: 500px\"/>"
      ]
    },
    {
      "cell_type": "markdown",
      "metadata": {
        "id": "NGSJ1kwrgVDf"
      },
      "source": [
        "Imagine N is number of users and M is number of movies (items). Let's say there are 100M users and 10M movies. \n",
        "\n",
        "The matrix size before factorization is 100M * 10M = 1,000,000B!\n",
        "\n",
        "If we Factorize it into 10 features (latent features), it will reduce the matrix size to 100M * 10 + 10M * 10 = 1,100M\n",
        "\n",
        "These latent features will find the relationship between users matrix and items matrix, so the rating can be calculated using the dot product of user matrix and item matrix"
      ]
    },
    {
      "cell_type": "markdown",
      "metadata": {
        "id": "fwX2Pet-jECQ"
      },
      "source": [
        "#### Great Resources:\n",
        "- https://medium.com/sfu-cspmp/recommendation-systems-collaborative-filtering-using-matrix-factorization-simplified-2118f4ef2cd3\n",
        "- https://towardsdatascience.com/recommendation-system-matrix-factorization-d61978660b4b\n",
        "- https://medium.com/@yashsonar213/how-to-build-a-recommendation-systems-matrix-factorization-using-keras-778931cc666f (Some code referring to this tutorial)\n",
        "- https://www.youtube.com/watch?v=G4MBc40rQ2k (Some code referring to this tutorial)"
      ]
    },
    {
      "cell_type": "markdown",
      "metadata": {
        "id": "6CEKSL0HjR1V"
      },
      "source": [
        "## Download Data\n",
        "https://grouplens.org/datasets/movielens/\n",
        "\n",
        "This dataset (ml-latest-small) describes 5-star rating and free-text tagging activity from MovieLens, a movie recommendation service. It contains 100836 ratings and 3683 tag applications across 9742 movies. These data were created by 610 users between March 29, 1996 and September 24, 2018. This dataset was generated on September 26, 2018.\n",
        "\n",
        "    F. Maxwell Harper and Joseph A. Konstan. 2015. The MovieLens Datasets: History and Context. ACM Transactions on Interactive Intelligent Systems (TiiS) 5, 4: 19:1–19:19. https://doi.org/10.1145/2827872\n"
      ]
    },
    {
      "cell_type": "code",
      "execution_count": 1,
      "metadata": {
        "colab": {
          "base_uri": "https://localhost:8080/"
        },
        "id": "q14YixGgeEO6",
        "outputId": "d8712d39-9ffc-4e5c-a273-316bcc494781"
      },
      "outputs": [
        {
          "name": "stdout",
          "output_type": "stream",
          "text": [
            "  % Total    % Received % Xferd  Average Speed   Time    Time     Time  Current\n",
            "                                 Dload  Upload   Total   Spent    Left  Speed\n",
            "100  955k  100  955k    0     0  1788k      0 --:--:-- --:--:-- --:--:-- 1785k\n"
          ]
        }
      ],
      "source": [
        "!curl http://files.grouplens.org/datasets/movielens/ml-latest-small.zip -o ml-latest-small.zip"
      ]
    },
    {
      "cell_type": "code",
      "execution_count": 2,
      "metadata": {
        "id": "kw272QnJeEO-"
      },
      "outputs": [],
      "source": [
        "import zipfile\n",
        "with zipfile.ZipFile('ml-latest-small.zip', 'r') as zip_ref:\n",
        "    zip_ref.extractall('data')"
      ]
    },
    {
      "cell_type": "code",
      "execution_count": 2,
      "metadata": {
        "id": "OMDmQa6ukVIo"
      },
      "outputs": [],
      "source": []
    },
    {
      "cell_type": "markdown",
      "metadata": {
        "id": "Gv2qSHxSkVqr"
      },
      "source": [
        "## Imports"
      ]
    },
    {
      "cell_type": "code",
      "execution_count": 3,
      "metadata": {
        "id": "tdx4GGYueEO_"
      },
      "outputs": [],
      "source": [
        "import pandas as pd\n",
        "import numpy as np\n",
        "\n",
        "import matplotlib.pyplot as plt\n",
        "from scipy import stats\n",
        "\n",
        "import tensorflow as tf\n",
        "import tensorflow_datasets as tfds\n",
        "from tensorflow import keras\n",
        "from keras.layers import Embedding, Flatten, Dense, dot\n",
        "\n",
        "physical_devices = tf.config.list_physical_devices(\"GPU\")\n",
        "physical_devices\n",
        "\n",
        "tf.random.set_seed(0)"
      ]
    },
    {
      "cell_type": "code",
      "execution_count": 4,
      "metadata": {
        "colab": {
          "base_uri": "https://localhost:8080/",
          "height": 35
        },
        "id": "D-ihv38evwMz",
        "outputId": "ec25a1af-7665-4f7d-d40a-a54c47675b10"
      },
      "outputs": [
        {
          "data": {
            "application/vnd.google.colaboratory.intrinsic+json": {
              "type": "string"
            },
            "text/plain": [
              "'2.8.0'"
            ]
          },
          "execution_count": 4,
          "metadata": {},
          "output_type": "execute_result"
        }
      ],
      "source": [
        "tf.__version__"
      ]
    },
    {
      "cell_type": "markdown",
      "metadata": {
        "id": "VTnbNkkrkjhu"
      },
      "source": [
        "## Load Data"
      ]
    },
    {
      "cell_type": "code",
      "execution_count": 5,
      "metadata": {
        "id": "jfxTHnD1eEO_"
      },
      "outputs": [],
      "source": [
        "movies_df = pd.read_csv('data/ml-latest-small/movies.csv')\n",
        "ratings_df = pd.read_csv('data/ml-latest-small/ratings.csv')"
      ]
    },
    {
      "cell_type": "code",
      "execution_count": 6,
      "metadata": {
        "colab": {
          "base_uri": "https://localhost:8080/",
          "height": 206
        },
        "id": "O2viSnbdlFfm",
        "outputId": "6eccd981-1017-4937-b154-d1f390483225"
      },
      "outputs": [
        {
          "data": {
            "text/html": [
              "\n",
              "  <div id=\"df-90d26b34-9d24-494f-93c0-bfca1c5b5887\">\n",
              "    <div class=\"colab-df-container\">\n",
              "      <div>\n",
              "<style scoped>\n",
              "    .dataframe tbody tr th:only-of-type {\n",
              "        vertical-align: middle;\n",
              "    }\n",
              "\n",
              "    .dataframe tbody tr th {\n",
              "        vertical-align: top;\n",
              "    }\n",
              "\n",
              "    .dataframe thead th {\n",
              "        text-align: right;\n",
              "    }\n",
              "</style>\n",
              "<table border=\"1\" class=\"dataframe\">\n",
              "  <thead>\n",
              "    <tr style=\"text-align: right;\">\n",
              "      <th></th>\n",
              "      <th>userId</th>\n",
              "      <th>movieId</th>\n",
              "      <th>rating</th>\n",
              "      <th>timestamp</th>\n",
              "    </tr>\n",
              "  </thead>\n",
              "  <tbody>\n",
              "    <tr>\n",
              "      <th>0</th>\n",
              "      <td>1</td>\n",
              "      <td>1</td>\n",
              "      <td>4.0</td>\n",
              "      <td>964982703</td>\n",
              "    </tr>\n",
              "    <tr>\n",
              "      <th>1</th>\n",
              "      <td>1</td>\n",
              "      <td>3</td>\n",
              "      <td>4.0</td>\n",
              "      <td>964981247</td>\n",
              "    </tr>\n",
              "    <tr>\n",
              "      <th>2</th>\n",
              "      <td>1</td>\n",
              "      <td>6</td>\n",
              "      <td>4.0</td>\n",
              "      <td>964982224</td>\n",
              "    </tr>\n",
              "    <tr>\n",
              "      <th>3</th>\n",
              "      <td>1</td>\n",
              "      <td>47</td>\n",
              "      <td>5.0</td>\n",
              "      <td>964983815</td>\n",
              "    </tr>\n",
              "    <tr>\n",
              "      <th>4</th>\n",
              "      <td>1</td>\n",
              "      <td>50</td>\n",
              "      <td>5.0</td>\n",
              "      <td>964982931</td>\n",
              "    </tr>\n",
              "  </tbody>\n",
              "</table>\n",
              "</div>\n",
              "      <button class=\"colab-df-convert\" onclick=\"convertToInteractive('df-90d26b34-9d24-494f-93c0-bfca1c5b5887')\"\n",
              "              title=\"Convert this dataframe to an interactive table.\"\n",
              "              style=\"display:none;\">\n",
              "        \n",
              "  <svg xmlns=\"http://www.w3.org/2000/svg\" height=\"24px\"viewBox=\"0 0 24 24\"\n",
              "       width=\"24px\">\n",
              "    <path d=\"M0 0h24v24H0V0z\" fill=\"none\"/>\n",
              "    <path d=\"M18.56 5.44l.94 2.06.94-2.06 2.06-.94-2.06-.94-.94-2.06-.94 2.06-2.06.94zm-11 1L8.5 8.5l.94-2.06 2.06-.94-2.06-.94L8.5 2.5l-.94 2.06-2.06.94zm10 10l.94 2.06.94-2.06 2.06-.94-2.06-.94-.94-2.06-.94 2.06-2.06.94z\"/><path d=\"M17.41 7.96l-1.37-1.37c-.4-.4-.92-.59-1.43-.59-.52 0-1.04.2-1.43.59L10.3 9.45l-7.72 7.72c-.78.78-.78 2.05 0 2.83L4 21.41c.39.39.9.59 1.41.59.51 0 1.02-.2 1.41-.59l7.78-7.78 2.81-2.81c.8-.78.8-2.07 0-2.86zM5.41 20L4 18.59l7.72-7.72 1.47 1.35L5.41 20z\"/>\n",
              "  </svg>\n",
              "      </button>\n",
              "      \n",
              "  <style>\n",
              "    .colab-df-container {\n",
              "      display:flex;\n",
              "      flex-wrap:wrap;\n",
              "      gap: 12px;\n",
              "    }\n",
              "\n",
              "    .colab-df-convert {\n",
              "      background-color: #E8F0FE;\n",
              "      border: none;\n",
              "      border-radius: 50%;\n",
              "      cursor: pointer;\n",
              "      display: none;\n",
              "      fill: #1967D2;\n",
              "      height: 32px;\n",
              "      padding: 0 0 0 0;\n",
              "      width: 32px;\n",
              "    }\n",
              "\n",
              "    .colab-df-convert:hover {\n",
              "      background-color: #E2EBFA;\n",
              "      box-shadow: 0px 1px 2px rgba(60, 64, 67, 0.3), 0px 1px 3px 1px rgba(60, 64, 67, 0.15);\n",
              "      fill: #174EA6;\n",
              "    }\n",
              "\n",
              "    [theme=dark] .colab-df-convert {\n",
              "      background-color: #3B4455;\n",
              "      fill: #D2E3FC;\n",
              "    }\n",
              "\n",
              "    [theme=dark] .colab-df-convert:hover {\n",
              "      background-color: #434B5C;\n",
              "      box-shadow: 0px 1px 3px 1px rgba(0, 0, 0, 0.15);\n",
              "      filter: drop-shadow(0px 1px 2px rgba(0, 0, 0, 0.3));\n",
              "      fill: #FFFFFF;\n",
              "    }\n",
              "  </style>\n",
              "\n",
              "      <script>\n",
              "        const buttonEl =\n",
              "          document.querySelector('#df-90d26b34-9d24-494f-93c0-bfca1c5b5887 button.colab-df-convert');\n",
              "        buttonEl.style.display =\n",
              "          google.colab.kernel.accessAllowed ? 'block' : 'none';\n",
              "\n",
              "        async function convertToInteractive(key) {\n",
              "          const element = document.querySelector('#df-90d26b34-9d24-494f-93c0-bfca1c5b5887');\n",
              "          const dataTable =\n",
              "            await google.colab.kernel.invokeFunction('convertToInteractive',\n",
              "                                                     [key], {});\n",
              "          if (!dataTable) return;\n",
              "\n",
              "          const docLinkHtml = 'Like what you see? Visit the ' +\n",
              "            '<a target=\"_blank\" href=https://colab.research.google.com/notebooks/data_table.ipynb>data table notebook</a>'\n",
              "            + ' to learn more about interactive tables.';\n",
              "          element.innerHTML = '';\n",
              "          dataTable['output_type'] = 'display_data';\n",
              "          await google.colab.output.renderOutput(dataTable, element);\n",
              "          const docLink = document.createElement('div');\n",
              "          docLink.innerHTML = docLinkHtml;\n",
              "          element.appendChild(docLink);\n",
              "        }\n",
              "      </script>\n",
              "    </div>\n",
              "  </div>\n",
              "  "
            ],
            "text/plain": [
              "   userId  movieId  rating  timestamp\n",
              "0       1        1     4.0  964982703\n",
              "1       1        3     4.0  964981247\n",
              "2       1        6     4.0  964982224\n",
              "3       1       47     5.0  964983815\n",
              "4       1       50     5.0  964982931"
            ]
          },
          "execution_count": 6,
          "metadata": {},
          "output_type": "execute_result"
        }
      ],
      "source": [
        "ratings_df.head()"
      ]
    },
    {
      "cell_type": "code",
      "execution_count": 7,
      "metadata": {
        "colab": {
          "base_uri": "https://localhost:8080/",
          "height": 288
        },
        "id": "fbPg5SbulzLy",
        "outputId": "41edc199-1b59-4056-85fb-2c6aa9844060"
      },
      "outputs": [
        {
          "data": {
            "text/plain": [
              "<matplotlib.axes._subplots.AxesSubplot at 0x7f79518f5dd0>"
            ]
          },
          "execution_count": 7,
          "metadata": {},
          "output_type": "execute_result"
        },
        {
          "data": {
            "image/png": "[encoded data removed]",
            "text/plain": [
              "<Figure size 432x288 with 1 Axes>"
            ]
          },
          "metadata": {
            "needs_background": "light"
          },
          "output_type": "display_data"
        }
      ],
      "source": [
        "ratings_df['rating'].value_counts().sort_index().plot(kind='bar')"
      ]
    },
    {
      "cell_type": "code",
      "execution_count": 8,
      "metadata": {
        "colab": {
          "base_uri": "https://localhost:8080/"
        },
        "id": "Bzk9hR-2loM-",
        "outputId": "5d9b239c-93de-4bc8-c88f-8e5a64580bdf"
      },
      "outputs": [
        {
          "data": {
            "text/plain": [
              "count    100836.000000\n",
              "mean          3.501557\n",
              "std           1.042529\n",
              "min           0.500000\n",
              "25%           3.000000\n",
              "50%           3.500000\n",
              "75%           4.000000\n",
              "max           5.000000\n",
              "Name: rating, dtype: float64"
            ]
          },
          "execution_count": 8,
          "metadata": {},
          "output_type": "execute_result"
        }
      ],
      "source": [
        "ratings_df['rating'].describe()"
      ]
    },
    {
      "cell_type": "code",
      "execution_count": 9,
      "metadata": {
        "colab": {
          "base_uri": "https://localhost:8080/"
        },
        "id": "xiwi8hOKmYhX",
        "outputId": "f9c6b0fe-e828-4f43-f6d7-70b9d861b27b"
      },
      "outputs": [
        {
          "data": {
            "text/plain": [
              "0.4817723828791305"
            ]
          },
          "execution_count": 9,
          "metadata": {},
          "output_type": "execute_result"
        }
      ],
      "source": [
        "percentage_ratings = ratings_df['rating'].value_counts(normalize=True).sort_index()\n",
        "percentage_ratings[percentage_ratings.index >= 4].sum()"
      ]
    },
    {
      "cell_type": "markdown",
      "metadata": {
        "id": "qyTHPMcNmSSt"
      },
      "source": [
        "Almost 50% of the ratings are greater than 4 stars"
      ]
    },
    {
      "cell_type": "code",
      "execution_count": 10,
      "metadata": {
        "colab": {
          "base_uri": "https://localhost:8080/",
          "height": 206
        },
        "id": "l9YHEIpRlIKm",
        "outputId": "c4ef2ac0-a185-4db6-b04e-e07f5d79ebde"
      },
      "outputs": [
        {
          "data": {
            "text/html": [
              "\n",
              "  <div id=\"df-d5a5d3a1-c133-4e9c-baa7-5d41d1ad6db6\">\n",
              "    <div class=\"colab-df-container\">\n",
              "      <div>\n",
              "<style scoped>\n",
              "    .dataframe tbody tr th:only-of-type {\n",
              "        vertical-align: middle;\n",
              "    }\n",
              "\n",
              "    .dataframe tbody tr th {\n",
              "        vertical-align: top;\n",
              "    }\n",
              "\n",
              "    .dataframe thead th {\n",
              "        text-align: right;\n",
              "    }\n",
              "</style>\n",
              "<table border=\"1\" class=\"dataframe\">\n",
              "  <thead>\n",
              "    <tr style=\"text-align: right;\">\n",
              "      <th></th>\n",
              "      <th>movieId</th>\n",
              "      <th>title</th>\n",
              "      <th>genres</th>\n",
              "    </tr>\n",
              "  </thead>\n",
              "  <tbody>\n",
              "    <tr>\n",
              "      <th>0</th>\n",
              "      <td>1</td>\n",
              "      <td>Toy Story (1995)</td>\n",
              "      <td>Adventure|Animation|Children|Comedy|Fantasy</td>\n",
              "    </tr>\n",
              "    <tr>\n",
              "      <th>1</th>\n",
              "      <td>2</td>\n",
              "      <td>Jumanji (1995)</td>\n",
              "      <td>Adventure|Children|Fantasy</td>\n",
              "    </tr>\n",
              "    <tr>\n",
              "      <th>2</th>\n",
              "      <td>3</td>\n",
              "      <td>Grumpier Old Men (1995)</td>\n",
              "      <td>Comedy|Romance</td>\n",
              "    </tr>\n",
              "    <tr>\n",
              "      <th>3</th>\n",
              "      <td>4</td>\n",
              "      <td>Waiting to Exhale (1995)</td>\n",
              "      <td>Comedy|Drama|Romance</td>\n",
              "    </tr>\n",
              "    <tr>\n",
              "      <th>4</th>\n",
              "      <td>5</td>\n",
              "      <td>Father of the Bride Part II (1995)</td>\n",
              "      <td>Comedy</td>\n",
              "    </tr>\n",
              "  </tbody>\n",
              "</table>\n",
              "</div>\n",
              "      <button class=\"colab-df-convert\" onclick=\"convertToInteractive('df-d5a5d3a1-c133-4e9c-baa7-5d41d1ad6db6')\"\n",
              "              title=\"Convert this dataframe to an interactive table.\"\n",
              "              style=\"display:none;\">\n",
              "        \n",
              "  <svg xmlns=\"http://www.w3.org/2000/svg\" height=\"24px\"viewBox=\"0 0 24 24\"\n",
              "       width=\"24px\">\n",
              "    <path d=\"M0 0h24v24H0V0z\" fill=\"none\"/>\n",
              "    <path d=\"M18.56 5.44l.94 2.06.94-2.06 2.06-.94-2.06-.94-.94-2.06-.94 2.06-2.06.94zm-11 1L8.5 8.5l.94-2.06 2.06-.94-2.06-.94L8.5 2.5l-.94 2.06-2.06.94zm10 10l.94 2.06.94-2.06 2.06-.94-2.06-.94-.94-2.06-.94 2.06-2.06.94z\"/><path d=\"M17.41 7.96l-1.37-1.37c-.4-.4-.92-.59-1.43-.59-.52 0-1.04.2-1.43.59L10.3 9.45l-7.72 7.72c-.78.78-.78 2.05 0 2.83L4 21.41c.39.39.9.59 1.41.59.51 0 1.02-.2 1.41-.59l7.78-7.78 2.81-2.81c.8-.78.8-2.07 0-2.86zM5.41 20L4 18.59l7.72-7.72 1.47 1.35L5.41 20z\"/>\n",
              "  </svg>\n",
              "      </button>\n",
              "      \n",
              "  <style>\n",
              "    .colab-df-container {\n",
              "      display:flex;\n",
              "      flex-wrap:wrap;\n",
              "      gap: 12px;\n",
              "    }\n",
              "\n",
              "    .colab-df-convert {\n",
              "      background-color: #E8F0FE;\n",
              "      border: none;\n",
              "      border-radius: 50%;\n",
              "      cursor: pointer;\n",
              "      display: none;\n",
              "      fill: #1967D2;\n",
              "      height: 32px;\n",
              "      padding: 0 0 0 0;\n",
              "      width: 32px;\n",
              "    }\n",
              "\n",
              "    .colab-df-convert:hover {\n",
              "      background-color: #E2EBFA;\n",
              "      box-shadow: 0px 1px 2px rgba(60, 64, 67, 0.3), 0px 1px 3px 1px rgba(60, 64, 67, 0.15);\n",
              "      fill: #174EA6;\n",
              "    }\n",
              "\n",
              "    [theme=dark] .colab-df-convert {\n",
              "      background-color: #3B4455;\n",
              "      fill: #D2E3FC;\n",
              "    }\n",
              "\n",
              "    [theme=dark] .colab-df-convert:hover {\n",
              "      background-color: #434B5C;\n",
              "      box-shadow: 0px 1px 3px 1px rgba(0, 0, 0, 0.15);\n",
              "      filter: drop-shadow(0px 1px 2px rgba(0, 0, 0, 0.3));\n",
              "      fill: #FFFFFF;\n",
              "    }\n",
              "  </style>\n",
              "\n",
              "      <script>\n",
              "        const buttonEl =\n",
              "          document.querySelector('#df-d5a5d3a1-c133-4e9c-baa7-5d41d1ad6db6 button.colab-df-convert');\n",
              "        buttonEl.style.display =\n",
              "          google.colab.kernel.accessAllowed ? 'block' : 'none';\n",
              "\n",
              "        async function convertToInteractive(key) {\n",
              "          const element = document.querySelector('#df-d5a5d3a1-c133-4e9c-baa7-5d41d1ad6db6');\n",
              "          const dataTable =\n",
              "            await google.colab.kernel.invokeFunction('convertToInteractive',\n",
              "                                                     [key], {});\n",
              "          if (!dataTable) return;\n",
              "\n",
              "          const docLinkHtml = 'Like what you see? Visit the ' +\n",
              "            '<a target=\"_blank\" href=https://colab.research.google.com/notebooks/data_table.ipynb>data table notebook</a>'\n",
              "            + ' to learn more about interactive tables.';\n",
              "          element.innerHTML = '';\n",
              "          dataTable['output_type'] = 'display_data';\n",
              "          await google.colab.output.renderOutput(dataTable, element);\n",
              "          const docLink = document.createElement('div');\n",
              "          docLink.innerHTML = docLinkHtml;\n",
              "          element.appendChild(docLink);\n",
              "        }\n",
              "      </script>\n",
              "    </div>\n",
              "  </div>\n",
              "  "
            ],
            "text/plain": [
              "   movieId                               title  \\\n",
              "0        1                    Toy Story (1995)   \n",
              "1        2                      Jumanji (1995)   \n",
              "2        3             Grumpier Old Men (1995)   \n",
              "3        4            Waiting to Exhale (1995)   \n",
              "4        5  Father of the Bride Part II (1995)   \n",
              "\n",
              "                                        genres  \n",
              "0  Adventure|Animation|Children|Comedy|Fantasy  \n",
              "1                   Adventure|Children|Fantasy  \n",
              "2                               Comedy|Romance  \n",
              "3                         Comedy|Drama|Romance  \n",
              "4                                       Comedy  "
            ]
          },
          "execution_count": 10,
          "metadata": {},
          "output_type": "execute_result"
        }
      ],
      "source": [
        "movies_df.head()"
      ]
    },
    {
      "cell_type": "code",
      "execution_count": 11,
      "metadata": {
        "colab": {
          "base_uri": "https://localhost:8080/"
        },
        "id": "KpmJo6ZmeEPA",
        "outputId": "9757e0d4-61e3-4263-c382-cc604199d91a"
      },
      "outputs": [
        {
          "data": {
            "text/plain": [
              "Index(['userId', 'movieId', 'rating', 'timestamp'], dtype='object')"
            ]
          },
          "execution_count": 11,
          "metadata": {},
          "output_type": "execute_result"
        }
      ],
      "source": [
        "ratings_df.columns"
      ]
    },
    {
      "cell_type": "code",
      "execution_count": 12,
      "metadata": {
        "colab": {
          "base_uri": "https://localhost:8080/"
        },
        "id": "zdsvEgAFeEPA",
        "outputId": "2edd059a-ae97-4969-98ff-268dce18028f"
      },
      "outputs": [
        {
          "name": "stdout",
          "output_type": "stream",
          "text": [
            "Movies shape:  (9742, 3)\n",
            "Ratings shape:  (100836, 4)\n"
          ]
        }
      ],
      "source": [
        "print('Movies shape: ', movies_df.shape)\n",
        "print('Ratings shape: ', ratings_df.shape)"
      ]
    },
    {
      "cell_type": "code",
      "execution_count": 13,
      "metadata": {
        "colab": {
          "base_uri": "https://localhost:8080/"
        },
        "id": "NCmG8B67eEPA",
        "outputId": "41100829-cbf3-4a9a-fc6e-1d989378f056"
      },
      "outputs": [
        {
          "name": "stdout",
          "output_type": "stream",
          "text": [
            "Number of unique users: 610\n",
            "Number of unique movies: 9724\n",
            "The full rating matrix will have: 5931640 elements.\n",
            "----------\n",
            "Number of ratings: 100836\n",
            "Therefore, only  1.6999683055613624 % of the matrix is filled (Sparse Matrix).\n"
          ]
        }
      ],
      "source": [
        "n_users = len(ratings_df.userId.unique())\n",
        "n_items = len(ratings_df.movieId.unique())\n",
        "\n",
        "print(\"Number of unique users:\", n_users)\n",
        "print(\"Number of unique movies:\", n_items)\n",
        "print(\"The full rating matrix will have:\", n_users*n_items, 'elements.')\n",
        "print('----------')\n",
        "print(\"Number of ratings:\", len(ratings_df))\n",
        "print(\"Therefore, only \", len(ratings_df) / (n_users*n_items) * 100, '% of the matrix is filled (Sparse Matrix).')"
      ]
    },
    {
      "cell_type": "markdown",
      "metadata": {
        "id": "iBLb2AfCtH9M"
      },
      "source": [
        "Only 1.6% matrix is filled, because in reality a user only watches a small number of movies.\n",
        "\n",
        "The latent factors will study from the existing relationship and can fill even the unwatched movies for all users."
      ]
    },
    {
      "cell_type": "markdown",
      "metadata": {
        "id": "Rv3bpLUMuAkT"
      },
      "source": [
        "## Defining Keras Model via Subclassing"
      ]
    },
    {
      "cell_type": "code",
      "execution_count": 14,
      "metadata": {
        "id": "7w_2P22yuIef"
      },
      "outputs": [],
      "source": [
        "N_LATENT_FACTORS = 10\n",
        "LEARNING_RATE = 1e-3\n",
        "BATCH_SIZE = 128\n",
        "EPOCHS = 100"
      ]
    },
    {
      "cell_type": "code",
      "execution_count": 15,
      "metadata": {
        "id": "PqH8pUNceEPC"
      },
      "outputs": [],
      "source": [
        "class MatrixFactorization(keras.Model):\n",
        "    def __init__(self, n_users, n_items, n_latent_factors=10):\n",
        "        super(MatrixFactorization, self).__init__()\n",
        "\n",
        "        self.user_embedding = Embedding(n_users, n_latent_factors, name='user_embedding')\n",
        "        self.item_embedding = Embedding(n_items, n_latent_factors, name='item_embedding')\n",
        "        self.flatten = Flatten()\n",
        "        self.predictor = Dense(1, activation='relu')\n",
        "\n",
        "    # feed forward\n",
        "    def call(self, input_tensor, training=False):\n",
        "        u = self.user_embedding(input_tensor[0], training=training)\n",
        "        i = self.item_embedding(input_tensor[1], training=training)\n",
        "\n",
        "        u = self.flatten(u)\n",
        "        i = self.flatten(i)\n",
        "\n",
        "        x = dot([u, i], axes=1)\n",
        "        x = self.predictor(x, training=training)\n",
        "\n",
        "        return x\n",
        "\n",
        "    def model(self):\n",
        "        user = keras.Input(shape=(1,), name='user_input')\n",
        "        item = keras.Input(shape=(1,), name='item_input')\n",
        "\n",
        "        return keras.Model(inputs=[user, item], outputs=self.call([user, item]))"
      ]
    },
    {
      "cell_type": "code",
      "execution_count": 16,
      "metadata": {
        "colab": {
          "base_uri": "https://localhost:8080/"
        },
        "id": "qsG40W4UeEPC",
        "outputId": "597c5b02-e040-48e5-aaa0-442ec8857be1"
      },
      "outputs": [
        {
          "name": "stdout",
          "output_type": "stream",
          "text": [
            "Model: \"model\"\n",
            "__________________________________________________________________________________________________\n",
            " Layer (type)                   Output Shape         Param #     Connected to                     \n",
            "==================================================================================================\n",
            " user_input (InputLayer)        [(None, 1)]          0           []                               \n",
            "                                                                                                  \n",
            " item_input (InputLayer)        [(None, 1)]          0           []                               \n",
            "                                                                                                  \n",
            " user_embedding (Embedding)     (None, 1, 10)        6100        ['user_input[0][0]']             \n",
            "                                                                                                  \n",
            " item_embedding (Embedding)     (None, 1, 10)        97240       ['item_input[0][0]']             \n",
            "                                                                                                  \n",
            " flatten (Flatten)              (None, 10)           0           ['user_embedding[0][0]',         \n",
            "                                                                  'item_embedding[0][0]']         \n",
            "                                                                                                  \n",
            " dot (Dot)                      (None, 1)            0           ['flatten[0][0]',                \n",
            "                                                                  'flatten[1][0]']                \n",
            "                                                                                                  \n",
            " dense (Dense)                  (None, 1)            2           ['dot[0][0]']                    \n",
            "                                                                                                  \n",
            "==================================================================================================\n",
            "Total params: 103,342\n",
            "Trainable params: 103,342\n",
            "Non-trainable params: 0\n",
            "__________________________________________________________________________________________________\n"
          ]
        }
      ],
      "source": [
        "model = MatrixFactorization(n_users, n_items, n_latent_factors=N_LATENT_FACTORS).model()\n",
        "model.summary()"
      ]
    },
    {
      "cell_type": "code",
      "execution_count": 17,
      "metadata": {
        "colab": {
          "base_uri": "https://localhost:8080/"
        },
        "id": "utSTjKMUeEPD",
        "outputId": "49aaca9f-21ac-499e-f024-550f31973da8"
      },
      "outputs": [
        {
          "name": "stderr",
          "output_type": "stream",
          "text": [
            "/usr/local/lib/python3.7/dist-packages/keras/optimizer_v2/adam.py:105: UserWarning: The `lr` argument is deprecated, use `learning_rate` instead.\n",
            "  super(Adam, self).__init__(name, **kwargs)\n"
          ]
        }
      ],
      "source": [
        "model.compile(\n",
        "    loss='mse',\n",
        "    optimizer=keras.optimizers.Adam(lr=LEARNING_RATE),\n",
        "    metrics=['mse'],\n",
        ")"
      ]
    },
    {
      "cell_type": "markdown",
      "metadata": {
        "id": "WKaMGPRYuuuR"
      },
      "source": [
        "## Prepare Data"
      ]
    },
    {
      "cell_type": "markdown",
      "metadata": {
        "id": "gZIJQiFW4Krf"
      },
      "source": [
        "Making sure the movie ID and user ID starts from 0 and ends in N - 1 (for the embedding to work)"
      ]
    },
    {
      "cell_type": "code",
      "execution_count": 18,
      "metadata": {
        "colab": {
          "base_uri": "https://localhost:8080/"
        },
        "id": "XDofXpmo4ne5",
        "outputId": "f801eebd-e7fc-42a2-9621-c4b3d8830902"
      },
      "outputs": [
        {
          "data": {
            "text/plain": [
              "array([1, 2, 3, 2])"
            ]
          },
          "execution_count": 18,
          "metadata": {},
          "output_type": "execute_result"
        }
      ],
      "source": [
        "# use rankdata with dense method to make the proper id sequence\n",
        "stats.rankdata([1,10,20,10], method='dense')"
      ]
    },
    {
      "cell_type": "code",
      "execution_count": 19,
      "metadata": {
        "id": "65OaQKye1e-_"
      },
      "outputs": [],
      "source": [
        "# make mapping from real movie id to converted movie id\n",
        "ratings_df['ranked_movieId'] = stats.rankdata(ratings_df['movieId'], method='dense') - 1\n",
        "\n",
        "real_to_rank_movieId = {}\n",
        "for i, content in ratings_df.iterrows():\n",
        "    real_to_rank_movieId[content['movieId']] = content['ranked_movieId']"
      ]
    },
    {
      "cell_type": "code",
      "execution_count": 20,
      "metadata": {
        "id": "vCeVJ7bx0rsg"
      },
      "outputs": [],
      "source": [
        "# map for movies_df\n",
        "movies_df['ranked_movieId'] = movies_df['movieId'].map(real_to_rank_movieId)"
      ]
    },
    {
      "cell_type": "code",
      "execution_count": 21,
      "metadata": {
        "id": "ip604oelGqTn"
      },
      "outputs": [],
      "source": [
        "# also normalizer the userId to start from 0\n",
        "ratings_df['userId'] = ratings_df['userId'] - 1"
      ]
    },
    {
      "cell_type": "code",
      "execution_count": 22,
      "metadata": {
        "id": "VxTphlC623zd"
      },
      "outputs": [],
      "source": [
        "assert ratings_df['ranked_movieId'].min() == 0\n",
        "assert ratings_df['ranked_movieId'].max() == (n_items-1)\n",
        "\n",
        "assert ratings_df['userId'].min() == 0\n",
        "assert ratings_df['userId'].max() == (n_users-1)"
      ]
    },
    {
      "cell_type": "code",
      "execution_count": 23,
      "metadata": {
        "id": "Xt_4hNMXIc9Z"
      },
      "outputs": [],
      "source": [
        "# drop movie rows that don't have rating\n",
        "movies_df = movies_df.dropna()"
      ]
    },
    {
      "cell_type": "code",
      "execution_count": 24,
      "metadata": {
        "id": "mI3aLxgGeEPD"
      },
      "outputs": [],
      "source": [
        "def get_dataset_partitions_pd(df, train_split=0.8, val_split=0.1, test_split=0.1):\n",
        "    assert (train_split + test_split + val_split) == 1\n",
        "    \n",
        "    # Only allows for equal validation and test splits\n",
        "    assert val_split == test_split \n",
        "\n",
        "    # Specify seed to always have the same split distribution between runs\n",
        "    df_sample = df.sample(frac=1, random_state=12)\n",
        "    indices_or_sections = [int(train_split * len(df)), int((1 - val_split) * len(df))]\n",
        "    \n",
        "    train_df, val_df, test_df = np.split(df_sample, indices_or_sections)\n",
        "    \n",
        "    return train_df, val_df, test_df"
      ]
    },
    {
      "cell_type": "code",
      "execution_count": 25,
      "metadata": {
        "id": "Ht0Q6cwgeEPD"
      },
      "outputs": [],
      "source": [
        "train_df, val_df, test_df = get_dataset_partitions_pd(ratings_df)"
      ]
    },
    {
      "cell_type": "markdown",
      "metadata": {
        "id": "HWrU2g9SuyLZ"
      },
      "source": [
        "## Training"
      ]
    },
    {
      "cell_type": "code",
      "execution_count": 26,
      "metadata": {
        "colab": {
          "base_uri": "https://localhost:8080/"
        },
        "id": "EF_dwnjdeEPE",
        "outputId": "c5cb51ba-209d-4c2d-d1ea-34e3970fdf37"
      },
      "outputs": [
        {
          "name": "stdout",
          "output_type": "stream",
          "text": [
            "Epoch 1/100\n",
            "631/631 [==============================] - 7s 7ms/step - loss: 10.9434 - mse: 10.9434 - val_loss: 6.9781 - val_mse: 6.9781\n",
            "Epoch 2/100\n",
            "631/631 [==============================] - 4s 6ms/step - loss: 3.0928 - mse: 3.0928 - val_loss: 1.7404 - val_mse: 1.7404\n",
            "Epoch 3/100\n",
            "631/631 [==============================] - 3s 5ms/step - loss: 1.2724 - mse: 1.2724 - val_loss: 1.2355 - val_mse: 1.2355\n",
            "Epoch 4/100\n",
            "631/631 [==============================] - 3s 5ms/step - loss: 0.9374 - mse: 0.9374 - val_loss: 1.0753 - val_mse: 1.0753\n",
            "Epoch 5/100\n",
            "631/631 [==============================] - 3s 4ms/step - loss: 0.7980 - mse: 0.7980 - val_loss: 1.0055 - val_mse: 1.0055\n",
            "Epoch 6/100\n",
            "631/631 [==============================] - 2s 3ms/step - loss: 0.7212 - mse: 0.7212 - val_loss: 0.9712 - val_mse: 0.9712\n",
            "Epoch 7/100\n",
            "631/631 [==============================] - 2s 3ms/step - loss: 0.6712 - mse: 0.6712 - val_loss: 0.9512 - val_mse: 0.9512\n",
            "Epoch 8/100\n",
            "631/631 [==============================] - 2s 3ms/step - loss: 0.6330 - mse: 0.6330 - val_loss: 0.9418 - val_mse: 0.9418\n",
            "Epoch 9/100\n",
            "631/631 [==============================] - 2s 3ms/step - loss: 0.6010 - mse: 0.6010 - val_loss: 0.9344 - val_mse: 0.9344\n",
            "Epoch 10/100\n",
            "631/631 [==============================] - 2s 3ms/step - loss: 0.5723 - mse: 0.5723 - val_loss: 0.9323 - val_mse: 0.9323\n",
            "Epoch 11/100\n",
            "631/631 [==============================] - 2s 3ms/step - loss: 0.5458 - mse: 0.5458 - val_loss: 0.9342 - val_mse: 0.9342\n",
            "Epoch 12/100\n",
            "631/631 [==============================] - 2s 3ms/step - loss: 0.5199 - mse: 0.5199 - val_loss: 0.9364 - val_mse: 0.9364\n",
            "Epoch 13/100\n",
            "631/631 [==============================] - 2s 3ms/step - loss: 0.4963 - mse: 0.4963 - val_loss: 0.9458 - val_mse: 0.9458\n",
            "Epoch 14/100\n",
            "631/631 [==============================] - 2s 3ms/step - loss: 0.4743 - mse: 0.4743 - val_loss: 0.9577 - val_mse: 0.9577\n",
            "Epoch 15/100\n",
            "631/631 [==============================] - 2s 3ms/step - loss: 0.4540 - mse: 0.4540 - val_loss: 0.9655 - val_mse: 0.9655\n"
          ]
        }
      ],
      "source": [
        "early_stop_cb = tf.keras.callbacks.EarlyStopping(\n",
        "    monitor='val_loss',\n",
        "    min_delta=0, \n",
        "    patience=5, \n",
        "    verbose=0,\n",
        "    mode='auto',\n",
        "    restore_best_weights=True\n",
        ")\n",
        "\n",
        "history = model.fit(\n",
        "    x = [train_df['userId'].values,train_df['ranked_movieId'].values],\n",
        "    y = train_df['rating'].values,\n",
        "    epochs=EPOCHS,\n",
        "    batch_size=BATCH_SIZE,\n",
        "    validation_data = (\n",
        "        [val_df['userId'].values,val_df['ranked_movieId'].values],\n",
        "        val_df['rating'].values\n",
        "    ),\n",
        "    callbacks=[early_stop_cb],\n",
        ")"
      ]
    },
    {
      "cell_type": "code",
      "execution_count": 27,
      "metadata": {
        "colab": {
          "base_uri": "https://localhost:8080/"
        },
        "id": "DSyqrqy5eEPE",
        "outputId": "d892cf05-fb0c-436f-e57f-cc9591c77efc"
      },
      "outputs": [
        {
          "name": "stdout",
          "output_type": "stream",
          "text": [
            "79/79 - 0s - loss: 0.9323 - mse: 0.9323 - 238ms/epoch - 3ms/step\n"
          ]
        },
        {
          "data": {
            "text/plain": [
              "[0.9323457479476929, 0.9323457479476929]"
            ]
          },
          "execution_count": 27,
          "metadata": {},
          "output_type": "execute_result"
        }
      ],
      "source": [
        "model.evaluate([val_df['userId'], val_df['ranked_movieId']], val_df['rating'], batch_size=128, verbose=2)\n",
        "# [0.9323457479476929, 0.9323457479476929]"
      ]
    },
    {
      "cell_type": "code",
      "execution_count": 28,
      "metadata": {
        "colab": {
          "base_uri": "https://localhost:8080/"
        },
        "id": "iWH_inr7eEPE",
        "outputId": "a42c7b84-1a84-41ec-a0c3-c414f051806c"
      },
      "outputs": [
        {
          "name": "stdout",
          "output_type": "stream",
          "text": [
            "79/79 - 0s - loss: 0.9356 - mse: 0.9356 - 137ms/epoch - 2ms/step\n"
          ]
        },
        {
          "data": {
            "text/plain": [
              "[0.9356298446655273, 0.9356298446655273]"
            ]
          },
          "execution_count": 28,
          "metadata": {},
          "output_type": "execute_result"
        }
      ],
      "source": [
        "model.evaluate([test_df['userId'], test_df['ranked_movieId']], test_df['rating'], batch_size=128, verbose=2)"
      ]
    },
    {
      "cell_type": "code",
      "execution_count": 29,
      "metadata": {
        "colab": {
          "base_uri": "https://localhost:8080/",
          "height": 423
        },
        "id": "BVihfyuDeEPE",
        "outputId": "5a835d57-494a-47db-edf0-a48e35493c67"
      },
      "outputs": [
        {
          "data": {
            "text/html": [
              "\n",
              "  <div id=\"df-383bd636-7eb7-421f-b218-1990782ec85b\">\n",
              "    <div class=\"colab-df-container\">\n",
              "      <div>\n",
              "<style scoped>\n",
              "    .dataframe tbody tr th:only-of-type {\n",
              "        vertical-align: middle;\n",
              "    }\n",
              "\n",
              "    .dataframe tbody tr th {\n",
              "        vertical-align: top;\n",
              "    }\n",
              "\n",
              "    .dataframe thead th {\n",
              "        text-align: right;\n",
              "    }\n",
              "</style>\n",
              "<table border=\"1\" class=\"dataframe\">\n",
              "  <thead>\n",
              "    <tr style=\"text-align: right;\">\n",
              "      <th></th>\n",
              "      <th>movieId</th>\n",
              "      <th>title</th>\n",
              "      <th>genres</th>\n",
              "      <th>ranked_movieId</th>\n",
              "    </tr>\n",
              "  </thead>\n",
              "  <tbody>\n",
              "    <tr>\n",
              "      <th>0</th>\n",
              "      <td>1</td>\n",
              "      <td>Toy Story (1995)</td>\n",
              "      <td>Adventure|Animation|Children|Comedy|Fantasy</td>\n",
              "      <td>0.0</td>\n",
              "    </tr>\n",
              "    <tr>\n",
              "      <th>1</th>\n",
              "      <td>2</td>\n",
              "      <td>Jumanji (1995)</td>\n",
              "      <td>Adventure|Children|Fantasy</td>\n",
              "      <td>1.0</td>\n",
              "    </tr>\n",
              "    <tr>\n",
              "      <th>2</th>\n",
              "      <td>3</td>\n",
              "      <td>Grumpier Old Men (1995)</td>\n",
              "      <td>Comedy|Romance</td>\n",
              "      <td>2.0</td>\n",
              "    </tr>\n",
              "    <tr>\n",
              "      <th>3</th>\n",
              "      <td>4</td>\n",
              "      <td>Waiting to Exhale (1995)</td>\n",
              "      <td>Comedy|Drama|Romance</td>\n",
              "      <td>3.0</td>\n",
              "    </tr>\n",
              "    <tr>\n",
              "      <th>4</th>\n",
              "      <td>5</td>\n",
              "      <td>Father of the Bride Part II (1995)</td>\n",
              "      <td>Comedy</td>\n",
              "      <td>4.0</td>\n",
              "    </tr>\n",
              "    <tr>\n",
              "      <th>...</th>\n",
              "      <td>...</td>\n",
              "      <td>...</td>\n",
              "      <td>...</td>\n",
              "      <td>...</td>\n",
              "    </tr>\n",
              "    <tr>\n",
              "      <th>9737</th>\n",
              "      <td>193581</td>\n",
              "      <td>Black Butler: Book of the Atlantic (2017)</td>\n",
              "      <td>Action|Animation|Comedy|Fantasy</td>\n",
              "      <td>9719.0</td>\n",
              "    </tr>\n",
              "    <tr>\n",
              "      <th>9738</th>\n",
              "      <td>193583</td>\n",
              "      <td>No Game No Life: Zero (2017)</td>\n",
              "      <td>Animation|Comedy|Fantasy</td>\n",
              "      <td>9720.0</td>\n",
              "    </tr>\n",
              "    <tr>\n",
              "      <th>9739</th>\n",
              "      <td>193585</td>\n",
              "      <td>Flint (2017)</td>\n",
              "      <td>Drama</td>\n",
              "      <td>9721.0</td>\n",
              "    </tr>\n",
              "    <tr>\n",
              "      <th>9740</th>\n",
              "      <td>193587</td>\n",
              "      <td>Bungo Stray Dogs: Dead Apple (2018)</td>\n",
              "      <td>Action|Animation</td>\n",
              "      <td>9722.0</td>\n",
              "    </tr>\n",
              "    <tr>\n",
              "      <th>9741</th>\n",
              "      <td>193609</td>\n",
              "      <td>Andrew Dice Clay: Dice Rules (1991)</td>\n",
              "      <td>Comedy</td>\n",
              "      <td>9723.0</td>\n",
              "    </tr>\n",
              "  </tbody>\n",
              "</table>\n",
              "<p>9724 rows × 4 columns</p>\n",
              "</div>\n",
              "      <button class=\"colab-df-convert\" onclick=\"convertToInteractive('df-383bd636-7eb7-421f-b218-1990782ec85b')\"\n",
              "              title=\"Convert this dataframe to an interactive table.\"\n",
              "              style=\"display:none;\">\n",
              "        \n",
              "  <svg xmlns=\"http://www.w3.org/2000/svg\" height=\"24px\"viewBox=\"0 0 24 24\"\n",
              "       width=\"24px\">\n",
              "    <path d=\"M0 0h24v24H0V0z\" fill=\"none\"/>\n",
              "    <path d=\"M18.56 5.44l.94 2.06.94-2.06 2.06-.94-2.06-.94-.94-2.06-.94 2.06-2.06.94zm-11 1L8.5 8.5l.94-2.06 2.06-.94-2.06-.94L8.5 2.5l-.94 2.06-2.06.94zm10 10l.94 2.06.94-2.06 2.06-.94-2.06-.94-.94-2.06-.94 2.06-2.06.94z\"/><path d=\"M17.41 7.96l-1.37-1.37c-.4-.4-.92-.59-1.43-.59-.52 0-1.04.2-1.43.59L10.3 9.45l-7.72 7.72c-.78.78-.78 2.05 0 2.83L4 21.41c.39.39.9.59 1.41.59.51 0 1.02-.2 1.41-.59l7.78-7.78 2.81-2.81c.8-.78.8-2.07 0-2.86zM5.41 20L4 18.59l7.72-7.72 1.47 1.35L5.41 20z\"/>\n",
              "  </svg>\n",
              "      </button>\n",
              "      \n",
              "  <style>\n",
              "    .colab-df-container {\n",
              "      display:flex;\n",
              "      flex-wrap:wrap;\n",
              "      gap: 12px;\n",
              "    }\n",
              "\n",
              "    .colab-df-convert {\n",
              "      background-color: #E8F0FE;\n",
              "      border: none;\n",
              "      border-radius: 50%;\n",
              "      cursor: pointer;\n",
              "      display: none;\n",
              "      fill: #1967D2;\n",
              "      height: 32px;\n",
              "      padding: 0 0 0 0;\n",
              "      width: 32px;\n",
              "    }\n",
              "\n",
              "    .colab-df-convert:hover {\n",
              "      background-color: #E2EBFA;\n",
              "      box-shadow: 0px 1px 2px rgba(60, 64, 67, 0.3), 0px 1px 3px 1px rgba(60, 64, 67, 0.15);\n",
              "      fill: #174EA6;\n",
              "    }\n",
              "\n",
              "    [theme=dark] .colab-df-convert {\n",
              "      background-color: #3B4455;\n",
              "      fill: #D2E3FC;\n",
              "    }\n",
              "\n",
              "    [theme=dark] .colab-df-convert:hover {\n",
              "      background-color: #434B5C;\n",
              "      box-shadow: 0px 1px 3px 1px rgba(0, 0, 0, 0.15);\n",
              "      filter: drop-shadow(0px 1px 2px rgba(0, 0, 0, 0.3));\n",
              "      fill: #FFFFFF;\n",
              "    }\n",
              "  </style>\n",
              "\n",
              "      <script>\n",
              "        const buttonEl =\n",
              "          document.querySelector('#df-383bd636-7eb7-421f-b218-1990782ec85b button.colab-df-convert');\n",
              "        buttonEl.style.display =\n",
              "          google.colab.kernel.accessAllowed ? 'block' : 'none';\n",
              "\n",
              "        async function convertToInteractive(key) {\n",
              "          const element = document.querySelector('#df-383bd636-7eb7-421f-b218-1990782ec85b');\n",
              "          const dataTable =\n",
              "            await google.colab.kernel.invokeFunction('convertToInteractive',\n",
              "                                                     [key], {});\n",
              "          if (!dataTable) return;\n",
              "\n",
              "          const docLinkHtml = 'Like what you see? Visit the ' +\n",
              "            '<a target=\"_blank\" href=https://colab.research.google.com/notebooks/data_table.ipynb>data table notebook</a>'\n",
              "            + ' to learn more about interactive tables.';\n",
              "          element.innerHTML = '';\n",
              "          dataTable['output_type'] = 'display_data';\n",
              "          await google.colab.output.renderOutput(dataTable, element);\n",
              "          const docLink = document.createElement('div');\n",
              "          docLink.innerHTML = docLinkHtml;\n",
              "          element.appendChild(docLink);\n",
              "        }\n",
              "      </script>\n",
              "    </div>\n",
              "  </div>\n",
              "  "
            ],
            "text/plain": [
              "      movieId                                      title  \\\n",
              "0           1                           Toy Story (1995)   \n",
              "1           2                             Jumanji (1995)   \n",
              "2           3                    Grumpier Old Men (1995)   \n",
              "3           4                   Waiting to Exhale (1995)   \n",
              "4           5         Father of the Bride Part II (1995)   \n",
              "...       ...                                        ...   \n",
              "9737   193581  Black Butler: Book of the Atlantic (2017)   \n",
              "9738   193583               No Game No Life: Zero (2017)   \n",
              "9739   193585                               Flint (2017)   \n",
              "9740   193587        Bungo Stray Dogs: Dead Apple (2018)   \n",
              "9741   193609        Andrew Dice Clay: Dice Rules (1991)   \n",
              "\n",
              "                                           genres  ranked_movieId  \n",
              "0     Adventure|Animation|Children|Comedy|Fantasy             0.0  \n",
              "1                      Adventure|Children|Fantasy             1.0  \n",
              "2                                  Comedy|Romance             2.0  \n",
              "3                            Comedy|Drama|Romance             3.0  \n",
              "4                                          Comedy             4.0  \n",
              "...                                           ...             ...  \n",
              "9737              Action|Animation|Comedy|Fantasy          9719.0  \n",
              "9738                     Animation|Comedy|Fantasy          9720.0  \n",
              "9739                                        Drama          9721.0  \n",
              "9740                             Action|Animation          9722.0  \n",
              "9741                                       Comedy          9723.0  \n",
              "\n",
              "[9724 rows x 4 columns]"
            ]
          },
          "execution_count": 29,
          "metadata": {},
          "output_type": "execute_result"
        }
      ],
      "source": [
        "movies_df"
      ]
    },
    {
      "cell_type": "markdown",
      "metadata": {
        "id": "0zvwbrWj5nx4"
      },
      "source": [
        "## What can we do with the embeddings?\n",
        "- Generate movie embedding / latent features from the model and cluster them to look for similar movies\n",
        "- Use the movie embedding to create a user embedding (movie embedding will be obtained by assuming some initial favorite movies for a new user)\n",
        "\n",
        "The second use case is one of the solution for cold start problem"
      ]
    },
    {
      "cell_type": "markdown",
      "metadata": {
        "id": "HnkixP1C6frs"
      },
      "source": [
        "### Generate movie embedding / latent features from the model and cluster them to look for similar movies"
      ]
    },
    {
      "cell_type": "code",
      "execution_count": 30,
      "metadata": {
        "id": "Hfc6dkmreEPE"
      },
      "outputs": [],
      "source": [
        "# model to get movie embedding for specific movie id, just take the item layer input and item embedding layer output\n",
        "movie_embedding_model = keras.Model(inputs=model.get_layer('item_input').input, outputs = model.get_layer('item_embedding').output)\n",
        "\n",
        "movie_embeddings = movie_embedding_model.predict(movies_df['ranked_movieId'])\n",
        "movie_embeddings = movie_embeddings.reshape(len(movies_df), 10)"
      ]
    },
    {
      "cell_type": "code",
      "execution_count": 31,
      "metadata": {
        "id": "g80S6Jg7eEPF"
      },
      "outputs": [],
      "source": [
        "from sklearn.cluster import KMeans"
      ]
    },
    {
      "cell_type": "code",
      "execution_count": 32,
      "metadata": {
        "id": "IATEYIuzeEPF"
      },
      "outputs": [],
      "source": [
        "K = range(1, 10)\n",
        "\n",
        "inertias = []\n",
        "mapping = {}\n",
        "\n",
        "for k in K:\n",
        "    kmeanModel = KMeans(n_clusters=k, random_state=0).fit(movie_embeddings)\n",
        "    inertias.append(kmeanModel.inertia_)\n",
        "    mapping[k] = kmeanModel.inertia_"
      ]
    },
    {
      "cell_type": "code",
      "execution_count": 33,
      "metadata": {
        "colab": {
          "base_uri": "https://localhost:8080/",
          "height": 295
        },
        "id": "85DzyW7geEPF",
        "outputId": "e520b826-b3aa-497b-8fa0-52260fa5f379"
      },
      "outputs": [
        {
          "data": {
            "image/png": "[encoded data removed]",
            "text/plain": [
              "<Figure size 432x288 with 1 Axes>"
            ]
          },
          "metadata": {
            "needs_background": "light"
          },
          "output_type": "display_data"
        }
      ],
      "source": [
        "plt.plot(K, inertias, 'bx-')\n",
        "plt.xlabel('K')\n",
        "plt.ylabel('Inertia')\n",
        "plt.title('Elbow Method using Inertia')\n",
        "plt.show()"
      ]
    },
    {
      "cell_type": "markdown",
      "metadata": {
        "id": "ekEuLisJ78TC"
      },
      "source": [
        "From the elbow method graph, we can use k = 2/3/4"
      ]
    },
    {
      "cell_type": "code",
      "execution_count": 34,
      "metadata": {
        "id": "KO62vCdQeEPF"
      },
      "outputs": [],
      "source": [
        "kmeans = KMeans(n_clusters=4, random_state=0).fit(movie_embeddings)"
      ]
    },
    {
      "cell_type": "code",
      "execution_count": 35,
      "metadata": {
        "colab": {
          "base_uri": "https://localhost:8080/"
        },
        "id": "coOc3eNSeEPF",
        "outputId": "bf94f3b5-efeb-4151-d4b2-d541841418e4"
      },
      "outputs": [
        {
          "name": "stdout",
          "output_type": "stream",
          "text": [
            "Cluster #0\n",
            "\t Forrest Gump (1994)  -  Comedy|Drama|Romance|War\n",
            "\t Jurassic Park (1993)  -  Action|Adventure|Sci-Fi|Thriller\n",
            "\t Braveheart (1995)  -  Action|Drama|War\n",
            "\t Toy Story (1995)  -  Adventure|Animation|Children|Comedy|Fantasy\n",
            "\t Independence Day (a.k.a. ID4) (1996)  -  Action|Adventure|Sci-Fi|Thriller\n",
            "\t Apollo 13 (1995)  -  Adventure|Drama|IMAX\n",
            "\t Fugitive, The (1993)  -  Thriller\n",
            "\t True Lies (1994)  -  Action|Adventure|Comedy|Romance|Thriller\n",
            "\t Lion King, The (1994)  -  Adventure|Animation|Children|Drama|Musical|IMAX\n",
            "\t Speed (1994)  -  Action|Romance|Thriller\n",
            "Cluster #1\n",
            "\t Austin Powers: The Spy Who Shagged Me (1999)  -  Action|Adventure|Comedy\n",
            "\t Natural Born Killers (1994)  -  Action|Crime|Thriller\n",
            "\t Charlie's Angels (2000)  -  Action|Comedy\n",
            "\t Honey, I Shrunk the Kids (1989)  -  Adventure|Children|Comedy|Fantasy|Sci-Fi\n",
            "\t Austin Powers in Goldmember (2002)  -  Comedy\n",
            "\t Blair Witch Project, The (1999)  -  Drama|Horror|Thriller\n",
            "\t Pleasantville (1998)  -  Comedy|Drama|Fantasy\n",
            "\t Charlie and the Chocolate Factory (2005)  -  Adventure|Children|Comedy|Fantasy|IMAX\n",
            "\t Batman Returns (1992)  -  Action|Crime\n",
            "\t A.I. Artificial Intelligence (2001)  -  Adventure|Drama|Sci-Fi\n",
            "Cluster #2\n",
            "\t Speed 2: Cruise Control (1997)  -  Action|Romance|Thriller\n",
            "\t Battlefield Earth (2000)  -  Action|Sci-Fi\n",
            "\t Rocky V (1990)  -  Action|Drama\n",
            "\t Howard the Duck (1986)  -  Adventure|Comedy|Sci-Fi\n",
            "\t Superman IV: The Quest for Peace (1987)  -  Action|Adventure|Sci-Fi\n",
            "\t Karate Kid, Part III, The (1989)  -  Action|Adventure|Children|Drama\n",
            "\t Sister Act 2: Back in the Habit (1993)  -  Comedy\n",
            "\t Ultraviolet (2006)  -  Action|Fantasy|Sci-Fi|Thriller\n",
            "\t Rambo III (1988)  -  Action|Adventure|Thriller|War\n",
            "\t Problem Child (1990)  -  Children|Comedy\n",
            "Cluster #3\n",
            "\t Shawshank Redemption, The (1994)  -  Crime|Drama\n",
            "\t Pulp Fiction (1994)  -  Comedy|Crime|Drama|Thriller\n",
            "\t Silence of the Lambs, The (1991)  -  Crime|Horror|Thriller\n",
            "\t Matrix, The (1999)  -  Action|Sci-Fi|Thriller\n",
            "\t Star Wars: Episode IV - A New Hope (1977)  -  Action|Adventure|Sci-Fi\n",
            "\t Terminator 2: Judgment Day (1991)  -  Action|Sci-Fi\n",
            "\t Schindler's List (1993)  -  Drama|War\n",
            "\t Fight Club (1999)  -  Action|Crime|Drama|Thriller\n",
            "\t Star Wars: Episode V - The Empire Strikes Back (1980)  -  Action|Adventure|Sci-Fi\n",
            "\t Usual Suspects, The (1995)  -  Crime|Mystery|Thriller\n"
          ]
        }
      ],
      "source": [
        "for cluster in range(4):\n",
        "  print(\"Cluster #{}\".format(cluster))\n",
        "  movies = []\n",
        "  for movie_index in np.where(kmeans.labels_ == cluster)[0]:\n",
        "      movie_name = movies_df.iloc[movie_index]['title']\n",
        "      movie_cat = movies_df.iloc[movie_index]['genres']\n",
        "      movie_id = movies_df.iloc[movie_index]['ranked_movieId']\n",
        "      movie_rating_count = ratings_df.loc[ratings_df['ranked_movieId'] == movie_id].count()[0]\n",
        "      movies.append((movie_name, movie_cat, movie_rating_count))\n",
        "\n",
        "  for movie in sorted(movies, key=lambda x: x[2], reverse=True)[:10]:\n",
        "      print(\"\\t\", movie[0], ' - ', movie[1])"
      ]
    },
    {
      "cell_type": "markdown",
      "metadata": {
        "id": "dq1QVwbbMzB-"
      },
      "source": [
        "- The cluster 0 contains mostly with Adventure | Action movies\n",
        "- The cluster 1 contains mostly with Action | Comedy movies\n",
        "- The cluster 2 contains mostly with Action | Sci-Fi | Thriller movies\n",
        "- The cluster 3 contains OG Crime and Thriller Movies, such as Shawshank, Pulp Fiction, Silence of the Lambs, Schindler's List, Fight Club, The Usual Suspects\n"
      ]
    },
    {
      "cell_type": "markdown",
      "metadata": {
        "id": "K8ThAH2zeEPF"
      },
      "source": [
        "## Use the movie embedding to create a user embedding"
      ]
    },
    {
      "cell_type": "markdown",
      "metadata": {
        "id": "6o9lX8x09xTu"
      },
      "source": [
        "New users will be asked what their favorite movie category is, and the system will pick random popular movies based for the initial bias movie\n",
        "\n",
        "Assuming the new user likes Animation category"
      ]
    },
    {
      "cell_type": "code",
      "execution_count": 36,
      "metadata": {
        "id": "ivrtG4QyeEPG"
      },
      "outputs": [],
      "source": [
        "# assuming the more people rated for a movie, the more popular the movie is\n",
        "ratings_counter = ratings_df.groupby('ranked_movieId').count().iloc[:,:1]\n",
        "ratings_counter.columns = ['count']\n",
        "ratings_counter = ratings_counter.reset_index()\n",
        "movies_df_withcount = movies_df.merge(ratings_counter, left_on='ranked_movieId', right_on='ranked_movieId', how='left')"
      ]
    },
    {
      "cell_type": "code",
      "execution_count": 37,
      "metadata": {
        "id": "M1u_MiBEeEPG"
      },
      "outputs": [],
      "source": [
        "movies_df_withcount =  movies_df_withcount.fillna(0.0)"
      ]
    },
    {
      "cell_type": "code",
      "execution_count": 38,
      "metadata": {
        "colab": {
          "base_uri": "https://localhost:8080/",
          "height": 459
        },
        "id": "ZEEMq2fJeEPG",
        "outputId": "1cd7b16a-b4d4-4917-93a4-f00ea1436cbd"
      },
      "outputs": [
        {
          "data": {
            "text/html": [
              "\n",
              "  <div id=\"df-a68aa27b-4289-4745-9633-b7f727811ec8\">\n",
              "    <div class=\"colab-df-container\">\n",
              "      <div>\n",
              "<style scoped>\n",
              "    .dataframe tbody tr th:only-of-type {\n",
              "        vertical-align: middle;\n",
              "    }\n",
              "\n",
              "    .dataframe tbody tr th {\n",
              "        vertical-align: top;\n",
              "    }\n",
              "\n",
              "    .dataframe thead th {\n",
              "        text-align: right;\n",
              "    }\n",
              "</style>\n",
              "<table border=\"1\" class=\"dataframe\">\n",
              "  <thead>\n",
              "    <tr style=\"text-align: right;\">\n",
              "      <th></th>\n",
              "      <th>movieId</th>\n",
              "      <th>title</th>\n",
              "      <th>genres</th>\n",
              "      <th>ranked_movieId</th>\n",
              "      <th>count</th>\n",
              "    </tr>\n",
              "  </thead>\n",
              "  <tbody>\n",
              "    <tr>\n",
              "      <th>1543</th>\n",
              "      <td>2080</td>\n",
              "      <td>Lady and the Tramp (1955)</td>\n",
              "      <td>Animation|Children|Comedy|Romance</td>\n",
              "      <td>1543.0</td>\n",
              "      <td>55</td>\n",
              "    </tr>\n",
              "    <tr>\n",
              "      <th>1594</th>\n",
              "      <td>2137</td>\n",
              "      <td>Charlotte's Web (1973)</td>\n",
              "      <td>Animation|Children</td>\n",
              "      <td>1594.0</td>\n",
              "      <td>21</td>\n",
              "    </tr>\n",
              "    <tr>\n",
              "      <th>322</th>\n",
              "      <td>364</td>\n",
              "      <td>Lion King, The (1994)</td>\n",
              "      <td>Adventure|Animation|Children|Drama|Musical|IMAX</td>\n",
              "      <td>322.0</td>\n",
              "      <td>172</td>\n",
              "    </tr>\n",
              "    <tr>\n",
              "      <th>2996</th>\n",
              "      <td>4016</td>\n",
              "      <td>Emperor's New Groove, The (2000)</td>\n",
              "      <td>Adventure|Animation|Children|Comedy|Fantasy</td>\n",
              "      <td>2996.0</td>\n",
              "      <td>37</td>\n",
              "    </tr>\n",
              "    <tr>\n",
              "      <th>1794</th>\n",
              "      <td>2394</td>\n",
              "      <td>Prince of Egypt, The (1998)</td>\n",
              "      <td>Animation|Musical</td>\n",
              "      <td>1794.0</td>\n",
              "      <td>25</td>\n",
              "    </tr>\n",
              "    <tr>\n",
              "      <th>3225</th>\n",
              "      <td>4366</td>\n",
              "      <td>Atlantis: The Lost Empire (2001)</td>\n",
              "      <td>Adventure|Animation|Children|Fantasy</td>\n",
              "      <td>3225.0</td>\n",
              "      <td>19</td>\n",
              "    </tr>\n",
              "    <tr>\n",
              "      <th>3740</th>\n",
              "      <td>5218</td>\n",
              "      <td>Ice Age (2002)</td>\n",
              "      <td>Adventure|Animation|Children|Comedy</td>\n",
              "      <td>3740.0</td>\n",
              "      <td>85</td>\n",
              "    </tr>\n",
              "    <tr>\n",
              "      <th>585</th>\n",
              "      <td>720</td>\n",
              "      <td>Wallace &amp; Gromit: The Best of Aardman Animatio...</td>\n",
              "      <td>Adventure|Animation|Comedy</td>\n",
              "      <td>585.0</td>\n",
              "      <td>27</td>\n",
              "    </tr>\n",
              "    <tr>\n",
              "      <th>4145</th>\n",
              "      <td>5971</td>\n",
              "      <td>My Neighbor Totoro (Tonari no Totoro) (1988)</td>\n",
              "      <td>Animation|Children|Drama|Fantasy</td>\n",
              "      <td>4145.0</td>\n",
              "      <td>37</td>\n",
              "    </tr>\n",
              "    <tr>\n",
              "      <th>5805</th>\n",
              "      <td>32031</td>\n",
              "      <td>Robots (2005)</td>\n",
              "      <td>Adventure|Animation|Children|Comedy|Fantasy|Sc...</td>\n",
              "      <td>5805.0</td>\n",
              "      <td>19</td>\n",
              "    </tr>\n",
              "  </tbody>\n",
              "</table>\n",
              "</div>\n",
              "      <button class=\"colab-df-convert\" onclick=\"convertToInteractive('df-a68aa27b-4289-4745-9633-b7f727811ec8')\"\n",
              "              title=\"Convert this dataframe to an interactive table.\"\n",
              "              style=\"display:none;\">\n",
              "        \n",
              "  <svg xmlns=\"http://www.w3.org/2000/svg\" height=\"24px\"viewBox=\"0 0 24 24\"\n",
              "       width=\"24px\">\n",
              "    <path d=\"M0 0h24v24H0V0z\" fill=\"none\"/>\n",
              "    <path d=\"M18.56 5.44l.94 2.06.94-2.06 2.06-.94-2.06-.94-.94-2.06-.94 2.06-2.06.94zm-11 1L8.5 8.5l.94-2.06 2.06-.94-2.06-.94L8.5 2.5l-.94 2.06-2.06.94zm10 10l.94 2.06.94-2.06 2.06-.94-2.06-.94-.94-2.06-.94 2.06-2.06.94z\"/><path d=\"M17.41 7.96l-1.37-1.37c-.4-.4-.92-.59-1.43-.59-.52 0-1.04.2-1.43.59L10.3 9.45l-7.72 7.72c-.78.78-.78 2.05 0 2.83L4 21.41c.39.39.9.59 1.41.59.51 0 1.02-.2 1.41-.59l7.78-7.78 2.81-2.81c.8-.78.8-2.07 0-2.86zM5.41 20L4 18.59l7.72-7.72 1.47 1.35L5.41 20z\"/>\n",
              "  </svg>\n",
              "      </button>\n",
              "      \n",
              "  <style>\n",
              "    .colab-df-container {\n",
              "      display:flex;\n",
              "      flex-wrap:wrap;\n",
              "      gap: 12px;\n",
              "    }\n",
              "\n",
              "    .colab-df-convert {\n",
              "      background-color: #E8F0FE;\n",
              "      border: none;\n",
              "      border-radius: 50%;\n",
              "      cursor: pointer;\n",
              "      display: none;\n",
              "      fill: #1967D2;\n",
              "      height: 32px;\n",
              "      padding: 0 0 0 0;\n",
              "      width: 32px;\n",
              "    }\n",
              "\n",
              "    .colab-df-convert:hover {\n",
              "      background-color: #E2EBFA;\n",
              "      box-shadow: 0px 1px 2px rgba(60, 64, 67, 0.3), 0px 1px 3px 1px rgba(60, 64, 67, 0.15);\n",
              "      fill: #174EA6;\n",
              "    }\n",
              "\n",
              "    [theme=dark] .colab-df-convert {\n",
              "      background-color: #3B4455;\n",
              "      fill: #D2E3FC;\n",
              "    }\n",
              "\n",
              "    [theme=dark] .colab-df-convert:hover {\n",
              "      background-color: #434B5C;\n",
              "      box-shadow: 0px 1px 3px 1px rgba(0, 0, 0, 0.15);\n",
              "      filter: drop-shadow(0px 1px 2px rgba(0, 0, 0, 0.3));\n",
              "      fill: #FFFFFF;\n",
              "    }\n",
              "  </style>\n",
              "\n",
              "      <script>\n",
              "        const buttonEl =\n",
              "          document.querySelector('#df-a68aa27b-4289-4745-9633-b7f727811ec8 button.colab-df-convert');\n",
              "        buttonEl.style.display =\n",
              "          google.colab.kernel.accessAllowed ? 'block' : 'none';\n",
              "\n",
              "        async function convertToInteractive(key) {\n",
              "          const element = document.querySelector('#df-a68aa27b-4289-4745-9633-b7f727811ec8');\n",
              "          const dataTable =\n",
              "            await google.colab.kernel.invokeFunction('convertToInteractive',\n",
              "                                                     [key], {});\n",
              "          if (!dataTable) return;\n",
              "\n",
              "          const docLinkHtml = 'Like what you see? Visit the ' +\n",
              "            '<a target=\"_blank\" href=https://colab.research.google.com/notebooks/data_table.ipynb>data table notebook</a>'\n",
              "            + ' to learn more about interactive tables.';\n",
              "          element.innerHTML = '';\n",
              "          dataTable['output_type'] = 'display_data';\n",
              "          await google.colab.output.renderOutput(dataTable, element);\n",
              "          const docLink = document.createElement('div');\n",
              "          docLink.innerHTML = docLinkHtml;\n",
              "          element.appendChild(docLink);\n",
              "        }\n",
              "      </script>\n",
              "    </div>\n",
              "  </div>\n",
              "  "
            ],
            "text/plain": [
              "      movieId                                              title  \\\n",
              "1543     2080                          Lady and the Tramp (1955)   \n",
              "1594     2137                             Charlotte's Web (1973)   \n",
              "322       364                              Lion King, The (1994)   \n",
              "2996     4016                   Emperor's New Groove, The (2000)   \n",
              "1794     2394                        Prince of Egypt, The (1998)   \n",
              "3225     4366                   Atlantis: The Lost Empire (2001)   \n",
              "3740     5218                                     Ice Age (2002)   \n",
              "585       720  Wallace & Gromit: The Best of Aardman Animatio...   \n",
              "4145     5971       My Neighbor Totoro (Tonari no Totoro) (1988)   \n",
              "5805    32031                                      Robots (2005)   \n",
              "\n",
              "                                                 genres  ranked_movieId  count  \n",
              "1543                  Animation|Children|Comedy|Romance          1543.0     55  \n",
              "1594                                 Animation|Children          1594.0     21  \n",
              "322     Adventure|Animation|Children|Drama|Musical|IMAX           322.0    172  \n",
              "2996        Adventure|Animation|Children|Comedy|Fantasy          2996.0     37  \n",
              "1794                                  Animation|Musical          1794.0     25  \n",
              "3225               Adventure|Animation|Children|Fantasy          3225.0     19  \n",
              "3740                Adventure|Animation|Children|Comedy          3740.0     85  \n",
              "585                          Adventure|Animation|Comedy           585.0     27  \n",
              "4145                   Animation|Children|Drama|Fantasy          4145.0     37  \n",
              "5805  Adventure|Animation|Children|Comedy|Fantasy|Sc...          5805.0     19  "
            ]
          },
          "execution_count": 38,
          "metadata": {},
          "output_type": "execute_result"
        }
      ],
      "source": [
        "# taking 5 random popular animation movies\n",
        "movies_df_withcount[\n",
        "    (movies_df_withcount['genres'].str.contains('Animation'))\n",
        "].sort_values('count', ascending=False)[:100].sample(10, random_state=0)"
      ]
    },
    {
      "cell_type": "code",
      "execution_count": 39,
      "metadata": {
        "id": "EIK3o3cieEPH"
      },
      "outputs": [],
      "source": [
        "rand_animation_movie_ids = movies_df_withcount[\n",
        "    (movies_df_withcount['genres'].str.contains('Animation'))\n",
        "].sort_values('count', ascending=False)[:100].sample(10, random_state=0)['ranked_movieId'].values"
      ]
    },
    {
      "cell_type": "markdown",
      "metadata": {
        "id": "Puzi7DP-_E7M"
      },
      "source": [
        "### Use the animation movie ids for building new user embedding"
      ]
    },
    {
      "cell_type": "code",
      "execution_count": 40,
      "metadata": {
        "colab": {
          "base_uri": "https://localhost:8080/"
        },
        "id": "19y1pSTUeEPH",
        "outputId": "c584b0e9-18de-4b0d-d978-4da2ecd4ab74"
      },
      "outputs": [
        {
          "name": "stdout",
          "output_type": "stream",
          "text": [
            "[[-15.69031535  -2.20211383  -2.2600645   -4.37040266   7.52471346\n",
            "   -6.35338882  10.61555575  16.95897191   4.53357342  -3.58476399]]\n"
          ]
        }
      ],
      "source": [
        "movie_id_new_user = rand_animation_movie_ids.astype(int)\n",
        "\n",
        "# generate movie embeddings for the movies\n",
        "user_movie_embeddings = movie_embedding_model.predict(x = movie_id_new_user)\n",
        "user_movie_embeddings = user_movie_embeddings.reshape(len(movie_id_new_user),10)\n",
        "\n",
        "# 5 start for all of the picked animation movies\n",
        "user_movie_bias = np.array([5 for _ in range(len(movie_id_new_user))])\n",
        "\n",
        "# get user embedding using lstsq (https://numpy.org/doc/stable/reference/generated/numpy.linalg.lstsq.html)\n",
        "# we know that: movie_rating = user_embedding @ item_embedding\n",
        "user_embedding, residuals, rank, s = np.linalg.lstsq(user_movie_embeddings,user_movie_bias, rcond=-1) # Get embedding for new user\n",
        "user_embedding = user_embedding.reshape(1, 10)\n",
        "\n",
        "print(user_embedding)"
      ]
    },
    {
      "cell_type": "code",
      "execution_count": 41,
      "metadata": {
        "colab": {
          "base_uri": "https://localhost:8080/",
          "height": 807
        },
        "id": "PWD5NjOOeEPH",
        "outputId": "b6df3ff2-f15f-4ff8-93ed-cc437b1a570a"
      },
      "outputs": [
        {
          "data": {
            "text/html": [
              "\n",
              "  <div id=\"df-d06e3ae1-5151-483e-b95b-0b453dc10eed\">\n",
              "    <div class=\"colab-df-container\">\n",
              "      <div>\n",
              "<style scoped>\n",
              "    .dataframe tbody tr th:only-of-type {\n",
              "        vertical-align: middle;\n",
              "    }\n",
              "\n",
              "    .dataframe tbody tr th {\n",
              "        vertical-align: top;\n",
              "    }\n",
              "\n",
              "    .dataframe thead th {\n",
              "        text-align: right;\n",
              "    }\n",
              "</style>\n",
              "<table border=\"1\" class=\"dataframe\">\n",
              "  <thead>\n",
              "    <tr style=\"text-align: right;\">\n",
              "      <th></th>\n",
              "      <th>movieId</th>\n",
              "      <th>title</th>\n",
              "      <th>genres</th>\n",
              "      <th>ranked_movieId</th>\n",
              "      <th>count</th>\n",
              "    </tr>\n",
              "  </thead>\n",
              "  <tbody>\n",
              "    <tr>\n",
              "      <th>418</th>\n",
              "      <td>480</td>\n",
              "      <td>Jurassic Park (1993)</td>\n",
              "      <td>Action|Adventure|Sci-Fi|Thriller</td>\n",
              "      <td>418.0</td>\n",
              "      <td>238</td>\n",
              "    </tr>\n",
              "    <tr>\n",
              "      <th>461</th>\n",
              "      <td>527</td>\n",
              "      <td>Schindler's List (1993)</td>\n",
              "      <td>Drama|War</td>\n",
              "      <td>461.0</td>\n",
              "      <td>220</td>\n",
              "    </tr>\n",
              "    <tr>\n",
              "      <th>0</th>\n",
              "      <td>1</td>\n",
              "      <td>Toy Story (1995)</td>\n",
              "      <td>Adventure|Animation|Children|Comedy|Fantasy</td>\n",
              "      <td>0.0</td>\n",
              "      <td>215</td>\n",
              "    </tr>\n",
              "    <tr>\n",
              "      <th>897</th>\n",
              "      <td>1196</td>\n",
              "      <td>Star Wars: Episode V - The Empire Strikes Back...</td>\n",
              "      <td>Action|Adventure|Sci-Fi</td>\n",
              "      <td>897.0</td>\n",
              "      <td>211</td>\n",
              "    </tr>\n",
              "    <tr>\n",
              "      <th>615</th>\n",
              "      <td>780</td>\n",
              "      <td>Independence Day (a.k.a. ID4) (1996)</td>\n",
              "      <td>Action|Adventure|Sci-Fi|Thriller</td>\n",
              "      <td>615.0</td>\n",
              "      <td>202</td>\n",
              "    </tr>\n",
              "    <tr>\n",
              "      <th>123</th>\n",
              "      <td>150</td>\n",
              "      <td>Apollo 13 (1995)</td>\n",
              "      <td>Adventure|Drama|IMAX</td>\n",
              "      <td>123.0</td>\n",
              "      <td>201</td>\n",
              "    </tr>\n",
              "    <tr>\n",
              "      <th>899</th>\n",
              "      <td>1198</td>\n",
              "      <td>Raiders of the Lost Ark (Indiana Jones and the...</td>\n",
              "      <td>Action|Adventure</td>\n",
              "      <td>899.0</td>\n",
              "      <td>200</td>\n",
              "    </tr>\n",
              "    <tr>\n",
              "      <th>398</th>\n",
              "      <td>457</td>\n",
              "      <td>Fugitive, The (1993)</td>\n",
              "      <td>Thriller</td>\n",
              "      <td>398.0</td>\n",
              "      <td>190</td>\n",
              "    </tr>\n",
              "    <tr>\n",
              "      <th>4131</th>\n",
              "      <td>5952</td>\n",
              "      <td>Lord of the Rings: The Two Towers, The (2002)</td>\n",
              "      <td>Adventure|Fantasy</td>\n",
              "      <td>4131.0</td>\n",
              "      <td>188</td>\n",
              "    </tr>\n",
              "    <tr>\n",
              "      <th>337</th>\n",
              "      <td>380</td>\n",
              "      <td>True Lies (1994)</td>\n",
              "      <td>Action|Adventure|Comedy|Romance|Thriller</td>\n",
              "      <td>337.0</td>\n",
              "      <td>178</td>\n",
              "    </tr>\n",
              "    <tr>\n",
              "      <th>322</th>\n",
              "      <td>364</td>\n",
              "      <td>Lion King, The (1994)</td>\n",
              "      <td>Adventure|Animation|Children|Drama|Musical|IMAX</td>\n",
              "      <td>322.0</td>\n",
              "      <td>172</td>\n",
              "    </tr>\n",
              "    <tr>\n",
              "      <th>334</th>\n",
              "      <td>377</td>\n",
              "      <td>Speed (1994)</td>\n",
              "      <td>Action|Romance|Thriller</td>\n",
              "      <td>334.0</td>\n",
              "      <td>171</td>\n",
              "    </tr>\n",
              "    <tr>\n",
              "      <th>968</th>\n",
              "      <td>1270</td>\n",
              "      <td>Back to the Future (1985)</td>\n",
              "      <td>Adventure|Comedy|Sci-Fi</td>\n",
              "      <td>968.0</td>\n",
              "      <td>171</td>\n",
              "    </tr>\n",
              "    <tr>\n",
              "      <th>3189</th>\n",
              "      <td>4306</td>\n",
              "      <td>Shrek (2001)</td>\n",
              "      <td>Adventure|Animation|Children|Comedy|Fantasy|Ro...</td>\n",
              "      <td>3189.0</td>\n",
              "      <td>170</td>\n",
              "    </tr>\n",
              "    <tr>\n",
              "      <th>1182</th>\n",
              "      <td>1580</td>\n",
              "      <td>Men in Black (a.k.a. MIB) (1997)</td>\n",
              "      <td>Action|Comedy|Sci-Fi</td>\n",
              "      <td>1182.0</td>\n",
              "      <td>165</td>\n",
              "    </tr>\n",
              "    <tr>\n",
              "      <th>508</th>\n",
              "      <td>590</td>\n",
              "      <td>Dances with Wolves (1990)</td>\n",
              "      <td>Adventure|Drama|Western</td>\n",
              "      <td>508.0</td>\n",
              "      <td>164</td>\n",
              "    </tr>\n",
              "    <tr>\n",
              "      <th>546</th>\n",
              "      <td>648</td>\n",
              "      <td>Mission: Impossible (1996)</td>\n",
              "      <td>Action|Adventure|Mystery|Thriller</td>\n",
              "      <td>546.0</td>\n",
              "      <td>162</td>\n",
              "    </tr>\n",
              "    <tr>\n",
              "      <th>302</th>\n",
              "      <td>344</td>\n",
              "      <td>Ace Ventura: Pet Detective (1994)</td>\n",
              "      <td>Comedy</td>\n",
              "      <td>302.0</td>\n",
              "      <td>161</td>\n",
              "    </tr>\n",
              "    <tr>\n",
              "      <th>325</th>\n",
              "      <td>367</td>\n",
              "      <td>Mask, The (1994)</td>\n",
              "      <td>Action|Comedy|Crime|Fantasy</td>\n",
              "      <td>325.0</td>\n",
              "      <td>157</td>\n",
              "    </tr>\n",
              "    <tr>\n",
              "      <th>4421</th>\n",
              "      <td>6539</td>\n",
              "      <td>Pirates of the Caribbean: The Curse of the Bla...</td>\n",
              "      <td>Action|Adventure|Comedy|Fantasy</td>\n",
              "      <td>4421.0</td>\n",
              "      <td>149</td>\n",
              "    </tr>\n",
              "  </tbody>\n",
              "</table>\n",
              "</div>\n",
              "      <button class=\"colab-df-convert\" onclick=\"convertToInteractive('df-d06e3ae1-5151-483e-b95b-0b453dc10eed')\"\n",
              "              title=\"Convert this dataframe to an interactive table.\"\n",
              "              style=\"display:none;\">\n",
              "        \n",
              "  <svg xmlns=\"http://www.w3.org/2000/svg\" height=\"24px\"viewBox=\"0 0 24 24\"\n",
              "       width=\"24px\">\n",
              "    <path d=\"M0 0h24v24H0V0z\" fill=\"none\"/>\n",
              "    <path d=\"M18.56 5.44l.94 2.06.94-2.06 2.06-.94-2.06-.94-.94-2.06-.94 2.06-2.06.94zm-11 1L8.5 8.5l.94-2.06 2.06-.94-2.06-.94L8.5 2.5l-.94 2.06-2.06.94zm10 10l.94 2.06.94-2.06 2.06-.94-2.06-.94-.94-2.06-.94 2.06-2.06.94z\"/><path d=\"M17.41 7.96l-1.37-1.37c-.4-.4-.92-.59-1.43-.59-.52 0-1.04.2-1.43.59L10.3 9.45l-7.72 7.72c-.78.78-.78 2.05 0 2.83L4 21.41c.39.39.9.59 1.41.59.51 0 1.02-.2 1.41-.59l7.78-7.78 2.81-2.81c.8-.78.8-2.07 0-2.86zM5.41 20L4 18.59l7.72-7.72 1.47 1.35L5.41 20z\"/>\n",
              "  </svg>\n",
              "      </button>\n",
              "      \n",
              "  <style>\n",
              "    .colab-df-container {\n",
              "      display:flex;\n",
              "      flex-wrap:wrap;\n",
              "      gap: 12px;\n",
              "    }\n",
              "\n",
              "    .colab-df-convert {\n",
              "      background-color: #E8F0FE;\n",
              "      border: none;\n",
              "      border-radius: 50%;\n",
              "      cursor: pointer;\n",
              "      display: none;\n",
              "      fill: #1967D2;\n",
              "      height: 32px;\n",
              "      padding: 0 0 0 0;\n",
              "      width: 32px;\n",
              "    }\n",
              "\n",
              "    .colab-df-convert:hover {\n",
              "      background-color: #E2EBFA;\n",
              "      box-shadow: 0px 1px 2px rgba(60, 64, 67, 0.3), 0px 1px 3px 1px rgba(60, 64, 67, 0.15);\n",
              "      fill: #174EA6;\n",
              "    }\n",
              "\n",
              "    [theme=dark] .colab-df-convert {\n",
              "      background-color: #3B4455;\n",
              "      fill: #D2E3FC;\n",
              "    }\n",
              "\n",
              "    [theme=dark] .colab-df-convert:hover {\n",
              "      background-color: #434B5C;\n",
              "      box-shadow: 0px 1px 3px 1px rgba(0, 0, 0, 0.15);\n",
              "      filter: drop-shadow(0px 1px 2px rgba(0, 0, 0, 0.3));\n",
              "      fill: #FFFFFF;\n",
              "    }\n",
              "  </style>\n",
              "\n",
              "      <script>\n",
              "        const buttonEl =\n",
              "          document.querySelector('#df-d06e3ae1-5151-483e-b95b-0b453dc10eed button.colab-df-convert');\n",
              "        buttonEl.style.display =\n",
              "          google.colab.kernel.accessAllowed ? 'block' : 'none';\n",
              "\n",
              "        async function convertToInteractive(key) {\n",
              "          const element = document.querySelector('#df-d06e3ae1-5151-483e-b95b-0b453dc10eed');\n",
              "          const dataTable =\n",
              "            await google.colab.kernel.invokeFunction('convertToInteractive',\n",
              "                                                     [key], {});\n",
              "          if (!dataTable) return;\n",
              "\n",
              "          const docLinkHtml = 'Like what you see? Visit the ' +\n",
              "            '<a target=\"_blank\" href=https://colab.research.google.com/notebooks/data_table.ipynb>data table notebook</a>'\n",
              "            + ' to learn more about interactive tables.';\n",
              "          element.innerHTML = '';\n",
              "          dataTable['output_type'] = 'display_data';\n",
              "          await google.colab.output.renderOutput(dataTable, element);\n",
              "          const docLink = document.createElement('div');\n",
              "          docLink.innerHTML = docLinkHtml;\n",
              "          element.appendChild(docLink);\n",
              "        }\n",
              "      </script>\n",
              "    </div>\n",
              "  </div>\n",
              "  "
            ],
            "text/plain": [
              "      movieId                                              title  \\\n",
              "418       480                               Jurassic Park (1993)   \n",
              "461       527                            Schindler's List (1993)   \n",
              "0           1                                   Toy Story (1995)   \n",
              "897      1196  Star Wars: Episode V - The Empire Strikes Back...   \n",
              "615       780               Independence Day (a.k.a. ID4) (1996)   \n",
              "123       150                                   Apollo 13 (1995)   \n",
              "899      1198  Raiders of the Lost Ark (Indiana Jones and the...   \n",
              "398       457                               Fugitive, The (1993)   \n",
              "4131     5952      Lord of the Rings: The Two Towers, The (2002)   \n",
              "337       380                                   True Lies (1994)   \n",
              "322       364                              Lion King, The (1994)   \n",
              "334       377                                       Speed (1994)   \n",
              "968      1270                          Back to the Future (1985)   \n",
              "3189     4306                                       Shrek (2001)   \n",
              "1182     1580                   Men in Black (a.k.a. MIB) (1997)   \n",
              "508       590                          Dances with Wolves (1990)   \n",
              "546       648                         Mission: Impossible (1996)   \n",
              "302       344                  Ace Ventura: Pet Detective (1994)   \n",
              "325       367                                   Mask, The (1994)   \n",
              "4421     6539  Pirates of the Caribbean: The Curse of the Bla...   \n",
              "\n",
              "                                                 genres  ranked_movieId  count  \n",
              "418                    Action|Adventure|Sci-Fi|Thriller           418.0    238  \n",
              "461                                           Drama|War           461.0    220  \n",
              "0           Adventure|Animation|Children|Comedy|Fantasy             0.0    215  \n",
              "897                             Action|Adventure|Sci-Fi           897.0    211  \n",
              "615                    Action|Adventure|Sci-Fi|Thriller           615.0    202  \n",
              "123                                Adventure|Drama|IMAX           123.0    201  \n",
              "899                                    Action|Adventure           899.0    200  \n",
              "398                                            Thriller           398.0    190  \n",
              "4131                                  Adventure|Fantasy          4131.0    188  \n",
              "337            Action|Adventure|Comedy|Romance|Thriller           337.0    178  \n",
              "322     Adventure|Animation|Children|Drama|Musical|IMAX           322.0    172  \n",
              "334                             Action|Romance|Thriller           334.0    171  \n",
              "968                             Adventure|Comedy|Sci-Fi           968.0    171  \n",
              "3189  Adventure|Animation|Children|Comedy|Fantasy|Ro...          3189.0    170  \n",
              "1182                               Action|Comedy|Sci-Fi          1182.0    165  \n",
              "508                             Adventure|Drama|Western           508.0    164  \n",
              "546                   Action|Adventure|Mystery|Thriller           546.0    162  \n",
              "302                                              Comedy           302.0    161  \n",
              "325                         Action|Comedy|Crime|Fantasy           325.0    157  \n",
              "4421                    Action|Adventure|Comedy|Fantasy          4421.0    149  "
            ]
          },
          "execution_count": 41,
          "metadata": {},
          "output_type": "execute_result"
        }
      ],
      "source": [
        "# get 20 most popular movies that have the predicted rating >= 4 for this new user\n",
        "movies_df_withcount[np.sum(user_embedding * movie_embeddings, axis=1) >= 4].sort_values('count',ascending=False)[:20]"
      ]
    },
    {
      "cell_type": "markdown",
      "metadata": {
        "id": "OLvRxP4SBNFN"
      },
      "source": [
        "There are some animation movies on the top 20 recommendation such as Toy Story, Lion King, and Shrek. Combining the matrix factorization with neural nets will make the rating prediction better"
      ]
    },
    {
      "cell_type": "markdown",
      "metadata": {
        "id": "8I49saMdBSjy"
      },
      "source": [
        "Another idea is to create user_embedding_model and find similar users with this new user and give movie recommendation based on similar users"
      ]
    }
  ],
  "metadata": {
    "colab": {
      "collapsed_sections": [],
      "name": "matrix-factorization.ipynb",
      "provenance": []
    },
    "interpreter": {
      "hash": "71eec88414cca8348ca04fd178ccf444e1669843d1dc6b1617ca9d3df77f3827"
    },
    "kernelspec": {
      "display_name": "Python 3.7.13 ('learn')",
      "language": "python",
      "name": "python3"
    },
    "language_info": {
      "codemirror_mode": {
        "name": "ipython",
        "version": 3
      },
      "file_extension": ".py",
      "mimetype": "text/x-python",
      "name": "python",
      "nbconvert_exporter": "python",
      "pygments_lexer": "ipython3",
      "version": "3.7.13"
    },
    "orig_nbformat": 4
  },
  "nbformat": 4,
  "nbformat_minor": 0
}
